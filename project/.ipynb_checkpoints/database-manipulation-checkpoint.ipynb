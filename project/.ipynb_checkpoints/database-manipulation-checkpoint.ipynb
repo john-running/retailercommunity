{
 "cells": [
  {
   "cell_type": "code",
   "execution_count": 4,
   "metadata": {},
   "outputs": [],
   "source": [
    "import pandas as pd\n",
    "import numpy as np\n",
    "import sqlite3"
   ]
  },
  {
   "cell_type": "code",
   "execution_count": 5,
   "metadata": {},
   "outputs": [],
   "source": [
    "conn = sqlite3.connect(\"data.sqlite\")"
   ]
  },
  {
   "cell_type": "code",
   "execution_count": 6,
   "metadata": {},
   "outputs": [],
   "source": [
    "cur = conn.cursor()"
   ]
  },
  {
   "cell_type": "code",
   "execution_count": 7,
   "metadata": {},
   "outputs": [],
   "source": [
    "cur.execute(\"select * from products;\")\n",
    "results = cur.fetchall()"
   ]
  },
  {
   "cell_type": "code",
   "execution_count": 9,
   "metadata": {},
   "outputs": [
    {
     "name": "stdout",
     "output_type": "stream",
     "text": [
      "[(1, \"Grower's Harvest Sweetcorn 907G\", 'https://img.tesco.com/Groceries/pi/107/5057545678107/IDShot_540x540.jpg', 0.79, 'https://www.tesco.com/groceries/en-GB/products/299539429', \"Sweetcorn kernels.\\r\\nWe don’t add anything to our juicy sweetcorn, and we don't take anything away either. We simply wait until it’s at its best, then harvest, prepare and freeze it locking in all natural taste and goodness.\", 20), (2, 'Tesco Petits Pois 1Kg', 'https://img.tesco.com/Groceries/pi/181/5031021453181/IDShot_540x540.jpg', 1.6, 'https://www.tesco.com/groceries/en-GB/products/250172608', 'Petits pois.\\r\\nSmall and sweet petit pois, simply frozen after being removed from their pods. Individually frozen for small or large handfuls as required.', 20), (3, 'Tesco Very Fine Whole Green Beans 900G', 'https://img.tesco.com/Groceries/pi/837/5053526969837/IDShot_540x540.jpg', 1.1, 'https://www.tesco.com/groceries/en-GB/products/282489813', 'Whole green beans.\\r\\nFrozen within hours of harvest to capture the peak of freshness', 20), (4, 'Tesco Sparkling Lemonade 2 Litre Bottle', 'https://img.tesco.com/Groceries/pi/763/5000436882763/IDShot_540x540.jpg', 0.35, 'https://www.tesco.com/groceries/en-GB/products/250617625', 'Carbonated lemonade soft drink with lemon juice from concentrate, sugar and sweeteners.\\r\\nold favourites, made with lemon juice', 30)]\n"
     ]
    }
   ],
   "source": [
    "print(results)"
   ]
  },
  {
   "cell_type": "code",
   "execution_count": 10,
   "metadata": {},
   "outputs": [],
   "source": [
    "df = pd.DataFrame(results)"
   ]
  },
  {
   "cell_type": "code",
   "execution_count": 13,
   "metadata": {},
   "outputs": [],
   "source": [
    "df.to_csv('products')"
   ]
  },
  {
   "cell_type": "code",
   "execution_count": null,
   "metadata": {},
   "outputs": [],
   "source": []
  }
 ],
 "metadata": {
  "kernelspec": {
   "display_name": "Python 3",
   "language": "python",
   "name": "python3"
  },
  "language_info": {
   "codemirror_mode": {
    "name": "ipython",
    "version": 3
   },
   "file_extension": ".py",
   "mimetype": "text/x-python",
   "name": "python",
   "nbconvert_exporter": "python",
   "pygments_lexer": "ipython3",
   "version": "3.6.5"
  }
 },
 "nbformat": 4,
 "nbformat_minor": 2
}
